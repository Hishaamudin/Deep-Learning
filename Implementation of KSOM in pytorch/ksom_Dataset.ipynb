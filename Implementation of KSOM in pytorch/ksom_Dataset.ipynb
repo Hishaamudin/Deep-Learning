{
 "cells": [
  {
   "cell_type": "code",
   "execution_count": 1,
   "metadata": {},
   "outputs": [],
   "source": [
    "import torch\n",
    "import torch.nn as nn\n",
    "import torch.optim as optim\n",
    "import numpy as np\n",
    "import torchvision.transforms as transforms"
   ]
  },
  {
   "cell_type": "code",
   "execution_count": 2,
   "metadata": {},
   "outputs": [],
   "source": [
    "class KSOM(nn.Module):\n",
    "    def __init__(self, input_dim, output_dim, learning_rate, weights):\n",
    "        super(KSOM, self).__init__()\n",
    "\n",
    "        self.input_dim = input_dim\n",
    "        self.output_dim = output_dim\n",
    "\n",
    "        self.learning_rate = learning_rate\n",
    "        self.sigma = output_dim / 2\n",
    "        self.weights = nn.Parameter(weights)\n",
    "\n",
    "    def forward(self, x):\n",
    "    \n",
    "        x = x.view(-1, self.input_dim)\n",
    "        distances = torch.sum((self.weights - x.unsqueeze(1)) ** 2, dim=-1)\n",
    "        winner = torch.argmin(distances, dim=1)\n",
    "        neighborhood = torch.exp(-distances / (2 * self.sigma ** 2))\n",
    "        delta = self.learning_rate * neighborhood.unsqueeze(-1) * (x.unsqueeze(1) - self.weights)\n",
    "        self.weights.data[winner] += torch.sum(delta, dim=0)[winner]\n",
    "\n",
    "        return winner"
   ]
  },
  {
   "cell_type": "code",
   "execution_count": 3,
   "metadata": {},
   "outputs": [],
   "source": [
    "transform = transforms.Compose([\n",
    "    transforms.Resize((32, 32)),\n",
    "    transforms.ToTensor(),\n",
    "    transforms.Normalize((0.5,), (0.5,))\n",
    "])"
   ]
  },
  {
   "cell_type": "code",
   "execution_count": 4,
   "metadata": {},
   "outputs": [
    {
     "name": "stdout",
     "output_type": "stream",
     "text": [
      "Files already downloaded and verified\n"
     ]
    }
   ],
   "source": [
    "import torchvision.datasets as datasets\n",
    "dataset = datasets.CIFAR10(root='./data', train=True, download=True, transform=transform)\n",
    "dataloader = torch.utils.data.DataLoader(dataset, batch_size=32, shuffle=True)"
   ]
  },
  {
   "cell_type": "code",
   "execution_count": 8,
   "metadata": {},
   "outputs": [],
   "source": [
    "ksom = KSOM(input_dim=32*32*3, output_dim=100, learning_rate=0.1, weights=torch.rand(100, 32*32*3))\n",
    "num_epochs=5"
   ]
  },
  {
   "cell_type": "code",
   "execution_count": 9,
   "metadata": {},
   "outputs": [],
   "source": [
    "import torch.optim as optim\n",
    "\n",
    "optimizer = optim.SGD(ksom.parameters(), lr=0.1)"
   ]
  },
  {
   "cell_type": "code",
   "execution_count": 10,
   "metadata": {},
   "outputs": [
    {
     "name": "stdout",
     "output_type": "stream",
     "text": [
      "Epoch 1: loss=2262.60302734375\n",
      "Epoch 2: loss=2331.546875\n",
      "Epoch 3: loss=2255.106689453125\n",
      "Epoch 4: loss=2399.530517578125\n",
      "Epoch 5: loss=2138.78369140625\n",
      "Finished Training\n"
     ]
    }
   ],
   "source": [
    "for epoch in range(num_epochs):\n",
    "    for i, data in enumerate(dataloader, 0):\n",
    "        inputs, _ = data\n",
    "        inputs = inputs.view(-1, 32*32*3)\n",
    "        optimizer.zero_grad()\n",
    "        winner = ksom(inputs)\n",
    "        loss = torch.mean(+\n",
    "                          torch.sum((ksom.weights - inputs.unsqueeze(1)) ** 2, dim=-1))\n",
    "        loss.backward()\n",
    "        optimizer.step()\n",
    "    print(f\"Epoch {epoch+1}: loss={loss.item()}\")\n",
    "\n",
    "print('Finished Training')"
   ]
  }
 ],
 "metadata": {
  "kernelspec": {
   "display_name": "Python 3",
   "language": "python",
   "name": "python3"
  },
  "language_info": {
   "codemirror_mode": {
    "name": "ipython",
    "version": 3
   },
   "file_extension": ".py",
   "mimetype": "text/x-python",
   "name": "python",
   "nbconvert_exporter": "python",
   "pygments_lexer": "ipython3",
   "version": "3.10.10"
  },
  "orig_nbformat": 4
 },
 "nbformat": 4,
 "nbformat_minor": 2
}
