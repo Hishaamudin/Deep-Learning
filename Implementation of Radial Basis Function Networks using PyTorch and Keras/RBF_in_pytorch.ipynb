{
 "cells": [
  {
   "cell_type": "code",
   "execution_count": 16,
   "metadata": {},
   "outputs": [
    {
     "data": {
      "text/plain": [
       "<torch._C.Generator at 0x21f314425f0>"
      ]
     },
     "execution_count": 16,
     "metadata": {},
     "output_type": "execute_result"
    }
   ],
   "source": [
    "import torch\n",
    "import torchvision\n",
    "n_epochs = 3\n",
    "batch_size_test = 3000\n",
    "learning_rate = 0.01\n",
    "momentum = 0.5\n",
    "log_interval = 10\n",
    "random_seed = 1\n",
    "torch.backends.cudnn.enabled = False\n",
    "torch.manual_seed(random_seed)"
   ]
  },
  {
   "cell_type": "code",
   "execution_count": 17,
   "metadata": {},
   "outputs": [],
   "source": [
    "\n",
    "import torch.nn as nn"
   ]
  },
  {
   "cell_type": "code",
   "execution_count": 18,
   "metadata": {},
   "outputs": [],
   "source": [
    "class RBFNet(nn.Module):\n",
    "    def __init__(self):\n",
    "        super(RBFNet, self).__init__()\n",
    "        self.hidden_dim = 100\n",
    "        self.output_dim = 4\n",
    "        self.num_centers = 4\n",
    "        \n",
    "        self.centers = nn.Parameter(torch.randn(4, 12288))\n",
    "        self.beta = nn.Parameter(torch.ones(num_centers, 1) / num_centers)\n",
    "        self.sigma = sigma\n",
    "        \n",
    "        self.fc = nn.Linear(num_centers, output_dim)\n",
    "    \n",
    "    def radial_basis(self, x):\n",
    "        C = self.centers.view(self.num_centers, -1)\n",
    "        return torch.exp(-torch.sum((x - C) ** 2, dim=1) / (2 * self.sigma ** 2))\n",
    "    \n",
    "    def forward(self, x):\n",
    "        batch_size = x.size(0)\n",
    "        x = x.view(batch_size, -1)\n",
    "        H = self.radial_basis(x)\n",
    "        out = self.fc(H)\n",
    "        return out"
   ]
  },
  {
   "cell_type": "code",
   "execution_count": 19,
   "metadata": {},
   "outputs": [],
   "source": [
    "hidden_dim = 100\n",
    "output_dim = 4\n",
    "num_centers= 4\n",
    "sigma = 1.0"
   ]
  },
  {
   "cell_type": "code",
   "execution_count": 20,
   "metadata": {},
   "outputs": [],
   "source": [
    "import torchvision.transforms as transforms\n",
    "import torchvision.datasets as datasets\n",
    "train_transforms = transforms.Compose([\n",
    "    transforms.Resize((64, 64)),\n",
    "    transforms.RandomHorizontalFlip(),\n",
    "    transforms.ToTensor(),\n",
    "])\n",
    "\n",
    "test_transforms = transforms.Compose([\n",
    "    transforms.Resize((64, 64)),\n",
    "    transforms.ToTensor(),\n",
    "])\n",
    "\n",
    "train_dataset = datasets.ImageFolder('C:/Users/hizzu/Downloads/Compressed/archive_2/Pistachio_Image_Dataset/Pistachio_Image_Dataset', transform=train_transforms)\n",
    "test_dataset = datasets.ImageFolder('C:/Users/hizzu/Downloads/Compressed/archive_2/Pistachio_Image_Dataset/Pistachio_Image_Dataset', transform=test_transforms)\n",
    "\n",
    "train_loader = torch.utils.data.DataLoader(train_dataset, batch_size=4, shuffle=True)\n",
    "test_loader = torch.utils.data.DataLoader(test_dataset, batch_size=4, shuffle=False)"
   ]
  },
  {
   "cell_type": "code",
   "execution_count": 21,
   "metadata": {},
   "outputs": [
    {
     "data": {
      "text/plain": [
       "torch.Size([4, 3, 64, 64])"
      ]
     },
     "execution_count": 21,
     "metadata": {},
     "output_type": "execute_result"
    }
   ],
   "source": [
    "examples = enumerate(test_loader)\n",
    "batch_idx, (example_data, example_targets) = next(examples)\n",
    "example_data.shape"
   ]
  },
  {
   "cell_type": "code",
   "execution_count": 22,
   "metadata": {},
   "outputs": [
    {
     "data": {
      "image/png": "[encoded data removed]",
      "text/plain": [
       "<Figure size 432x288 with 4 Axes>"
      ]
     },
     "metadata": {},
     "output_type": "display_data"
    }
   ],
   "source": [
    "'''import matplotlib.pyplot as plt\n",
    "fig = plt.figure()\n",
    "for i in range(4):\n",
    "  plt.subplot(2,3,i+1)\n",
    "  plt.tight_layout()\n",
    "  plt.imshow(example_data[i][0], cmap='gray', interpolation='none')\n",
    "  plt.title(\"Ground Truth: {}\".format(example_targets[i]))\n",
    "  plt.xticks([])\n",
    "  plt.yticks([])'''"
   ]
  },
  {
   "cell_type": "code",
   "execution_count": 23,
   "metadata": {},
   "outputs": [
    {
     "name": "stdout",
     "output_type": "stream",
     "text": [
      "Epoch: 1 \tTraining Loss: 2.458960\n",
      "Epoch: 2 \tTraining Loss: 2.431547\n",
      "Epoch: 3 \tTraining Loss: 2.466643\n",
      "Epoch: 4 \tTraining Loss: 2.462729\n",
      "Epoch: 5 \tTraining Loss: 2.483839\n",
      "Epoch: 6 \tTraining Loss: 2.456887\n",
      "Epoch: 7 \tTraining Loss: 2.475793\n",
      "Epoch: 8 \tTraining Loss: 2.454983\n",
      "Epoch: 9 \tTraining Loss: 2.487625\n",
      "Epoch: 10 \tTraining Loss: 2.482829\n"
     ]
    }
   ],
   "source": [
    "criterion = nn.CrossEntropyLoss()\n",
    "model=RBFNet()\n",
    "optimizer = torch.optim.SGD(model.parameters(), lr=0.01)\n",
    "n_epochs = 10\n",
    "for epoch in range(n_epochs):\n",
    "    train_loss = 0.0\n",
    "    for data, target in train_loader:\n",
    "        model.train()\n",
    "        output = model(data)\n",
    "        loss = criterion(output.float(), target.float())\n",
    "        loss.backward()\n",
    "        \n",
    "        train_loss += loss.item()*data.size(0)\n",
    "        \n",
    "    train_loss = train_loss/len(train_loader.dataset)\n",
    "\n",
    "    print('Epoch: {} \\tTraining Loss: {:.6f}'.format(epoch+1,train_loss))"
   ]
  },
  {
   "cell_type": "code",
   "execution_count": null,
   "metadata": {},
   "outputs": [],
   "source": []
  }
 ],
 "metadata": {
  "kernelspec": {
   "display_name": "Python 3",
   "language": "python",
   "name": "python3"
  },
  "language_info": {
   "codemirror_mode": {
    "name": "ipython",
    "version": 3
   },
   "file_extension": ".py",
   "mimetype": "text/x-python",
   "name": "python",
   "nbconvert_exporter": "python",
   "pygments_lexer": "ipython3",
   "version": "3.10.10"
  },
  "orig_nbformat": 4
 },
 "nbformat": 4,
 "nbformat_minor": 2
}
