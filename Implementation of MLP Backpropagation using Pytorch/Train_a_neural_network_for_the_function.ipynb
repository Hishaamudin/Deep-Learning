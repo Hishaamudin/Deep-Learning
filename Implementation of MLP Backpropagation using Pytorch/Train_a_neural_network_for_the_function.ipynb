{
 "cells": [
  {
   "cell_type": "code",
   "execution_count": 1,
   "metadata": {},
   "outputs": [
    {
     "name": "stdout",
     "output_type": "stream",
     "text": [
      "Epoch: 0 Loss: 0.304677277803421\n",
      "Epoch: 20 Loss: 0.17668838798999786\n",
      "Epoch: 40 Loss: 0.16482582688331604\n",
      "Epoch: 60 Loss: 0.1614520251750946\n",
      "Epoch: 80 Loss: 0.1587987095117569\n",
      "Predicted y: 0.2364625185728073\n"
     ]
    },
    {
     "name": "stderr",
     "output_type": "stream",
     "text": [
      "C:\\Users\\hizzu\\AppData\\Local\\Packages\\PythonSoftwareFoundation.Python.3.10_qbz5n2kfra8p0\\LocalCache\\local-packages\\Python310\\site-packages\\torch\\nn\\modules\\linear.py:96: UserWarning: Failed to initialize NumPy: No module named 'numpy' (Triggered internally at ..\\torch\\csrc\\utils\\tensor_numpy.cpp:77.)\n",
      "  self.weight = Parameter(torch.empty((out_features, in_features), **factory_kwargs))\n"
     ]
    }
   ],
   "source": [
    "import torch\n",
    "\n",
    "#neural network\n",
    "class Net(torch.nn.Module):\n",
    "    def __init__(self, input_size, hidden_size, output_size):\n",
    "        super().__init__()\n",
    "        self.fc1 = torch.nn.Linear(input_size, hidden_size)\n",
    "        self.fc2 = torch.nn.Linear(hidden_size, output_size)\n",
    "\n",
    "    def forward(self, x):\n",
    "        x = torch.sigmoid(self.fc1(x))\n",
    "        x = self.fc2(x)\n",
    "        return x\n",
    "\n",
    "# Initialize \n",
    "input_size = 1\n",
    "hidden_size = 10\n",
    "output_size = 1\n",
    "model = Net(input_size, hidden_size, output_size)\n",
    "\n",
    "# Define the loss function and optimizer\n",
    "#criterion = torch.nn.MSELoss()\n",
    "optimizer = torch.optim.SGD(model.parameters(), lr=0.01)\n",
    "#change => loss function\n",
    "def loss_function(y,y_pred):\n",
    "        return ((y_pred-y)**2).mean()\n",
    "\n",
    "# Generate some training data\n",
    "X = torch.linspace(-1, 1, 100).reshape(-1, 1)\n",
    "y = X**4 + X**5\n",
    "#print(X)\n",
    "\n",
    "# Train the model\n",
    "for epoch in range(100):\n",
    "    # Forward pass\n",
    "    outputs = model(X)\n",
    "    loss = loss_function(outputs, y)\n",
    "\n",
    "    # Backward pass and optimization\n",
    "    optimizer.zero_grad()\n",
    "    loss.backward()\n",
    "    optimizer.step()\n",
    "\n",
    "    # Print the loss for every 20th epoch\n",
    "    if epoch % 20 == 0:\n",
    "        print(\"Epoch:\", epoch, \"Loss:\", loss.item())\n",
    "\n",
    "# Evaluate the model\n",
    "with torch.no_grad():\n",
    "    X_test = torch.tensor([[0.5]])\n",
    "    y_pred = model(X_test)\n",
    "    print(\"Predicted y:\", y_pred.item())\n"
   ]
  }
 ],
 "metadata": {
  "kernelspec": {
   "display_name": "Python 3",
   "language": "python",
   "name": "python3"
  },
  "language_info": {
   "codemirror_mode": {
    "name": "ipython",
    "version": 3
   },
   "file_extension": ".py",
   "mimetype": "text/x-python",
   "name": "python",
   "nbconvert_exporter": "python",
   "pygments_lexer": "ipython3",
   "version": "3.10.10 (tags/v3.10.10:aad5f6a, Feb  7 2023, 17:20:36) [MSC v.1929 64 bit (AMD64)]"
  },
  "orig_nbformat": 4,
  "vscode": {
   "interpreter": {
    "hash": "8ba5058344f14246f801dd39a5e696723ff0fb6f68ea616ce0a3eefb8cd48fae"
   }
  }
 },
 "nbformat": 4,
 "nbformat_minor": 2
}
