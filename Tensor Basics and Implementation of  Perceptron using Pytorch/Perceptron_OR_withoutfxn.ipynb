{
 "cells": [
  {
   "cell_type": "code",
   "execution_count": 1,
   "metadata": {},
   "outputs": [
    {
     "name": "stderr",
     "output_type": "stream",
     "text": [
      "C:\\Users\\hizzu\\AppData\\Local\\Temp\\ipykernel_18984\\3615496743.py:3: UserWarning: Failed to initialize NumPy: No module named 'numpy' (Triggered internally at ..\\torch\\csrc\\utils\\tensor_numpy.cpp:77.)\n",
      "  X = torch.tensor([[0, 0], [0, 1], [1, 0], [1, 1]], dtype=torch.float)\n"
     ]
    },
    {
     "name": "stdout",
     "output_type": "stream",
     "text": [
      "before update\n",
      "tensor([[ 1.3707],\n",
      "        [-0.6386]], requires_grad=True)\n",
      "tensor([0.2361], requires_grad=True)\n",
      "tensor([[0.],\n",
      "        [1.],\n",
      "        [1.],\n",
      "        [1.]], grad_fn=<RoundBackward0>)\n"
     ]
    }
   ],
   "source": [
    "import torch\n",
    "\n",
    "X = torch.tensor([[0, 0], [0, 1], [1, 0], [1, 1]], dtype=torch.float)\n",
    "Y = torch.tensor([[0], [1], [1], [1]], dtype=torch.float)\n",
    "\n",
    "\n",
    "w = torch.randn(2, 1, requires_grad=True)\n",
    "b = torch.randn(1, requires_grad=True)\n",
    "print(\"before update\")\n",
    "print(w)\n",
    "print(b)\n",
    "\n",
    "lr = 0.1\n",
    "epochs = 10000\n",
    "\n",
    "#perceptron\n",
    "for epoch in range(epochs):\n",
    "    # Forward pass\n",
    "    y_pred = torch.matmul(X, w) + b\n",
    "    # loss\n",
    "    loss = ((y_pred - Y)**2).mean()\n",
    "    # Backward pass\n",
    "    loss.backward()\n",
    "    # Update weights and bias\n",
    "    with torch.no_grad():\n",
    "        w -= lr * w.grad\n",
    "        b -= lr * b.grad\n",
    "        # Reset gradients\n",
    "        w.grad.zero_()\n",
    "        b.grad.zero_()\n",
    "\n",
    "# Test the perceptron\n",
    "test_input = torch.tensor([[0, 0], [0, 1], [1, 0], [1, 1]], dtype=torch.float)\n",
    "test_output = torch.matmul(test_input, w) + b\n",
    "print(test_output.round())\n"
   ]
  },
  {
   "cell_type": "code",
   "execution_count": 2,
   "metadata": {},
   "outputs": [
    {
     "name": "stdout",
     "output_type": "stream",
     "text": [
      "after update\n",
      "tensor([[0.5000],\n",
      "        [0.5000]], requires_grad=True)\n",
      "tensor([0.2500], requires_grad=True)\n"
     ]
    }
   ],
   "source": [
    "print(\"after update\")\n",
    "print(w)\n",
    "print(b)"
   ]
  }
 ],
 "metadata": {
  "kernelspec": {
   "display_name": "Python 3",
   "language": "python",
   "name": "python3"
  },
  "language_info": {
   "codemirror_mode": {
    "name": "ipython",
    "version": 3
   },
   "file_extension": ".py",
   "mimetype": "text/x-python",
   "name": "python",
   "nbconvert_exporter": "python",
   "pygments_lexer": "ipython3",
   "version": "3.10.10"
  },
  "orig_nbformat": 4,
  "vscode": {
   "interpreter": {
    "hash": "8ba5058344f14246f801dd39a5e696723ff0fb6f68ea616ce0a3eefb8cd48fae"
   }
  }
 },
 "nbformat": 4,
 "nbformat_minor": 2
}
