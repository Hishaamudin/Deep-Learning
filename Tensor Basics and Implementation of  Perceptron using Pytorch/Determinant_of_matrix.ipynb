{
 "cells": [
  {
   "cell_type": "code",
   "execution_count": 1,
   "metadata": {},
   "outputs": [
    {
     "name": "stdout",
     "output_type": "stream",
     "text": [
      "tensor([[ 4., -3.,  5.],\n",
      "        [ 1.,  0.,  3.],\n",
      "        [-1.,  5.,  2.]])\n"
     ]
    },
    {
     "name": "stderr",
     "output_type": "stream",
     "text": [
      "C:\\Users\\hizzu\\AppData\\Local\\Temp\\ipykernel_16632\\4222816766.py:2: UserWarning: Failed to initialize NumPy: No module named 'numpy' (Triggered internally at ..\\torch\\csrc\\utils\\tensor_numpy.cpp:77.)\n",
      "  mat = torch.Tensor([4,-3,5,1,0,3,-1,5,2])\n"
     ]
    }
   ],
   "source": [
    "import torch\n",
    "mat = torch.Tensor([4,-3,5,1,0,3,-1,5,2])\n",
    "A = mat.view(3,3)\n",
    "print (A)"
   ]
  },
  {
   "cell_type": "code",
   "execution_count": 2,
   "metadata": {},
   "outputs": [
    {
     "name": "stdout",
     "output_type": "stream",
     "text": [
      "Determinant: tensor(-20.)\n"
     ]
    }
   ],
   "source": [
    "det_mat = torch.linalg.det(A)\n",
    "print(\"Determinant:\", det_mat)"
   ]
  },
  {
   "cell_type": "code",
   "execution_count": 3,
   "metadata": {},
   "outputs": [
    {
     "name": "stdout",
     "output_type": "stream",
     "text": [
      "tensor([ 4., -3.,  5.])\n"
     ]
    }
   ],
   "source": [
    "r1=A[0,0:3]\n",
    "print(r1)"
   ]
  },
  {
   "cell_type": "code",
   "execution_count": 4,
   "metadata": {},
   "outputs": [
    {
     "name": "stdout",
     "output_type": "stream",
     "text": [
      "tensor(-20.)\n"
     ]
    }
   ],
   "source": [
    "res1=r1[0]*((A[1,1]*A[2,2])-(A[2,1]*A[1,2]))\n",
    "res2=r1[1]*((A[1,0]*A[2,2])-(A[2,0]*A[1,2]))\n",
    "res3=r1[2]*((A[1,0]*A[2,1])-(A[2,0]*A[1,1]))\n",
    "#print(res3)\n",
    "#print(res2)\n",
    "#print(res1)\n",
    "res=res1-res2+res3\n",
    "print(res)"
   ]
  },
  {
   "cell_type": "code",
   "execution_count": 5,
   "metadata": {},
   "outputs": [],
   "source": [
    "def determinant(matrix):\n",
    "    n = matrix.shape[0]\n",
    "    if n == 1:\n",
    "        return matrix[0, 0]\n",
    "    else:\n",
    "        det = 0\n",
    "        for i in range(n):\n",
    "            s_matrix = matrix[1:, [j for j in range(n) if j != i]]\n",
    "            det += (-1)**i * matrix[0, i] * determinant(s_matrix)\n",
    "        return det"
   ]
  },
  {
   "cell_type": "code",
   "execution_count": 6,
   "metadata": {},
   "outputs": [
    {
     "name": "stdout",
     "output_type": "stream",
     "text": [
      "tensor(-20.)\n"
     ]
    }
   ],
   "source": [
    "det = determinant(A)\n",
    "print(det)"
   ]
  }
 ],
 "metadata": {
  "kernelspec": {
   "display_name": "Python 3",
   "language": "python",
   "name": "python3"
  },
  "language_info": {
   "codemirror_mode": {
    "name": "ipython",
    "version": 3
   },
   "file_extension": ".py",
   "mimetype": "text/x-python",
   "name": "python",
   "nbconvert_exporter": "python",
   "pygments_lexer": "ipython3",
   "version": "3.10.10"
  },
  "orig_nbformat": 4,
  "vscode": {
   "interpreter": {
    "hash": "8ba5058344f14246f801dd39a5e696723ff0fb6f68ea616ce0a3eefb8cd48fae"
   }
  }
 },
 "nbformat": 4,
 "nbformat_minor": 2
}
